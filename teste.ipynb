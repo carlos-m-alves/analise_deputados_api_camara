{
 "cells": [
  {
   "cell_type": "code",
   "execution_count": 4,
   "id": "03415a96",
   "metadata": {},
   "outputs": [
    {
     "name": "stdout",
     "output_type": "stream",
     "text": [
      "Acácio Favacho\n"
     ]
    }
   ],
   "source": [
    "import requests\n",
    "import pandas as pd\n",
    "url = \"https://dadosabertos.camara.leg.br/api/v2/deputados/\"\n",
    "\n",
    "# Make a GET request\n",
    "response = requests.get(url)\n",
    "\n",
    "# Check if the request was successful (status code 200)\n",
    "if response.status_code == 200:\n",
    "    # Parse the JSON response\n",
    "    dataJson = response.json()\n",
    "    print(dataJson['dados'][0]['nome'])\n",
    "    #for index, deputados in enumerate(data['dados']):\n",
    "    #    print(f\"{index + 1}. {deputados['id']} - {deputados['nome']}\")\n",
    "else:\n",
    "    print(f\"Error: {response.status_code} - {response.text}\")"
   ]
  },
  {
   "cell_type": "code",
   "execution_count": 56,
   "id": "f2ef245f",
   "metadata": {},
   "outputs": [
    {
     "name": "stdout",
     "output_type": "stream",
     "text": [
      "0       Acácio Favacho\n",
      "1          Adail Filho\n",
      "2      Adilson Barroso\n",
      "3         Adolfo Viana\n",
      "4      Adriana Ventura\n",
      "            ...       \n",
      "507          Zé Trovão\n",
      "508           Zé Vitor\n",
      "509        Zeca Dirceu\n",
      "510    Zezinho Barbary\n",
      "511              Zucco\n",
      "Name: nome, Length: 512, dtype: object\n"
     ]
    }
   ],
   "source": [
    "import requests\n",
    "import pandas as pd\n",
    "url = \"https://dadosabertos.camara.leg.br/api/v2/deputados/\"\n",
    "\n",
    "# Make a GET request\n",
    "response = requests.get(url)\n",
    "\n",
    "# Check if the request was successful (status code 200)\n",
    "if response.status_code == 200:\n",
    "    # Parse the JSON response\n",
    "    data = response.json()\n",
    "    # Converter o JSON para DataFrame\n",
    "    df = pd.DataFrame(data['dados'])\n",
    "    print(df['nome'])\n",
    "    #for index, deputados in enumerate(data['dados']):\n",
    "    #    print(f\"{index + 1}. {deputados['id']} - {deputados['nome']}\")\n",
    "else:\n",
    "    print(f\"Error: {response.status_code} - {response.text}\")"
   ]
  },
  {
   "cell_type": "code",
   "execution_count": 46,
   "id": "0a5c9d47",
   "metadata": {},
   "outputs": [
    {
     "name": "stdout",
     "output_type": "stream",
     "text": [
      "220714\n"
     ]
    }
   ],
   "source": [
    "filtered_df_name = df[df['nome'] == 'Adail Filho']['id'].iloc[0]\n",
    "print(filtered_df_name)"
   ]
  },
  {
   "cell_type": "code",
   "execution_count": 55,
   "id": "c9b7d0ca",
   "metadata": {},
   "outputs": [
    {
     "name": "stdout",
     "output_type": "stream",
     "text": [
      "https://dadosabertos.camara.leg.br/api/v2/deputados/220714\n"
     ]
    }
   ],
   "source": [
    "url2 = \"https://dadosabertos.camara.leg.br/api/v2/deputados/\" + str(filtered_df_name)\n",
    "print(f'{url2}')"
   ]
  },
  {
   "cell_type": "code",
   "execution_count": 53,
   "id": "14951d60",
   "metadata": {},
   "outputs": [
    {
     "name": "stdout",
     "output_type": "stream",
     "text": [
      "https://dadosabertos.camara.leg.br/api/v2/deputados/220714\n",
      "Error: 403 - <!DOCTYPE html>\n",
      "<html lang=\"pt-br\">\n",
      "\n",
      "<head>\n",
      "    <meta charset=\"UTF-8\">\n",
      "    <meta http-equiv=\"X-UA-Compatible\" content=\"IE=edge\">\n",
      "    <meta name=\"viewport\" content=\"width=device-width, initial-scale=1.0\">\n",
      "    <link href=\"/proxy-error/pageError.css\" rel=\"stylesheet\" type=\"text/css\" />\n",
      "    <title>Erro de acesso</title>\n",
      "</head>\n",
      "\n",
      "<body>\n",
      "    <div id=\"geralError\">\n",
      "        <div id=\"barraCamara\"></div>\n",
      "        <div class=\"contentError\">\n",
      "            <div class=\"atencao\">\n",
      "                <h1>Desculpe-nos!</h1>\n",
      "            </div>\n",
      "            <div class=\"conteudo\">\n",
      "\n",
      "                <div class=\"conteudoBox\">\n",
      "                    <p>Nossos sistemas automÃ¡ticos de seguranÃ§a impediram que a operaÃ§Ã£o fosse concluÃ­da.\n",
      "                    <p>\n",
      "                    <p>Isso pode ocorrer quando vocÃª copia dados de outros sites e eles vÃªm com conteÃºdos nÃ£o\n",
      "                        permitidos.\n",
      "                    <p>\n",
      "                    <p>VocÃª pode <a href=\"javascript:history.back()\" title=\"voltar...\">voltar</a>, revisar o que estava\n",
      "                        fazendo e tentar novamente.\n",
      "                    <p>\n",
      "                </div>\n",
      "                <div class=\"conteudoBox\">\n",
      "                    <h2>Ajude-nos a oferecer um melhor serviÃ§o...</h2>\n",
      "\n",
      "                    <p>Entre em contato atravÃ©s do link <a class=\"external-link\" href=\"https://www.camara.leg.br/fale-conosco\"\n",
      "                            target=\"_blank\" title=\"\">Fale Conosco</a>, e informe:</p>\n",
      "                    <ul>\n",
      "                        <li>A descriÃ§Ã£o da operaÃ§Ã£o que vocÃª estava fazendo.</li>\n",
      "                        <li>As informaÃ§Ãµes sobre o erro, mostradas abaixo (copie e cole no corpo da mensagem):</li>\n",
      "                    </ul>\n",
      "                    <form>\n",
      "                        <textarea rows=\"8\" wrap=\"virtual\" onfocus=\"this.select()\" onclick=\"this.select()\"\n",
      "                            readonly=\"readonly\">\n",
      "Erro: 403\n",
      "Servidor: dadosabertos.camara.leg.br\n",
      "Quando: Sunday, 28-Sep-2025 23:47:28 -03\n",
      "Tipo: Erro de acesso \n",
      "ID: c319676d4148d187c93b711867187baa\n",
      "URL: /api/v2/deputados/1%20%20%20%20220714%0AName:%20id,%20dtype:%20int64\n",
      "\n",
      "\t\t\t\t\t\t</textarea>\n",
      "                    </form>\n",
      "                </div>\n",
      "\n",
      "                <address>\n",
      "                    <a href=\"/\">dadosabertos.camara.leg.br</a><br />\n",
      "                </address>\n",
      "            </div>\n",
      "        </div>\n",
      "    </div>\n",
      "\n",
      "</body>\n",
      "\n",
      "</html>\n",
      "\n"
     ]
    }
   ],
   "source": [
    "url2 = f\"https://dadosabertos.camara.leg.br/api/v2/deputados/\"+str(filtered_df_name)\n",
    "print(f'{url2}')\n",
    "#response = requests.get(url2)\n",
    "if response.status_code == 200:\n",
    "    data = response.json()\n",
    "    info_deputado = pd.DataFrame(data['dados'])\n",
    "    print(info_deputado)\n",
    "else:\n",
    "        print(f\"Error: {response.status_code} - {response.text}\")\n"
   ]
  },
  {
   "cell_type": "code",
   "execution_count": null,
   "id": "d825d1d1",
   "metadata": {},
   "outputs": [],
   "source": []
  }
 ],
 "metadata": {
  "kernelspec": {
   "display_name": "Python 3",
   "language": "python",
   "name": "python3"
  },
  "language_info": {
   "codemirror_mode": {
    "name": "ipython",
    "version": 3
   },
   "file_extension": ".py",
   "mimetype": "text/x-python",
   "name": "python",
   "nbconvert_exporter": "python",
   "pygments_lexer": "ipython3",
   "version": "3.8.2"
  }
 },
 "nbformat": 4,
 "nbformat_minor": 5
}
